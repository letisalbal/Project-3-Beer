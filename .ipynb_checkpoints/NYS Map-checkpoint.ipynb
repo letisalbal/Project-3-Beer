{
 "cells": [
  {
   "cell_type": "code",
   "execution_count": 32,
   "metadata": {},
   "outputs": [
    {
     "ename": "FileNotFoundError",
     "evalue": "[Errno 2] No such file or directory: 'pk.eyJ1IjoibGV0aXNhbGJhIiwiYSI6ImNrM3M2ZmljejAxeTYzZHBpZ2kwYmYxNWQifQ.8kD2sxlrcRvsbFmND2oUwQ'",
     "output_type": "error",
     "traceback": [
      "\u001b[0;31m---------------------------------------------------------------------------\u001b[0m",
      "\u001b[0;31mFileNotFoundError\u001b[0m                         Traceback (most recent call last)",
      "\u001b[0;32m<ipython-input-32-34c79cbba818>\u001b[0m in \u001b[0;36m<module>\u001b[0;34m\u001b[0m\n\u001b[1;32m      1\u001b[0m \u001b[0;32mimport\u001b[0m \u001b[0mplotly\u001b[0m\u001b[0;34m.\u001b[0m\u001b[0mgraph_objects\u001b[0m \u001b[0;32mas\u001b[0m \u001b[0mgo\u001b[0m\u001b[0;34m\u001b[0m\u001b[0;34m\u001b[0m\u001b[0m\n\u001b[1;32m      2\u001b[0m \u001b[0;34m\u001b[0m\u001b[0m\n\u001b[0;32m----> 3\u001b[0;31m \u001b[0mmapbox_access_token\u001b[0m \u001b[0;34m=\u001b[0m \u001b[0mopen\u001b[0m\u001b[0;34m(\u001b[0m\u001b[0;34m\"pk.eyJ1IjoibGV0aXNhbGJhIiwiYSI6ImNrM3M2ZmljejAxeTYzZHBpZ2kwYmYxNWQifQ.8kD2sxlrcRvsbFmND2oUwQ\"\u001b[0m\u001b[0;34m)\u001b[0m\u001b[0;34m.\u001b[0m\u001b[0mread\u001b[0m\u001b[0;34m(\u001b[0m\u001b[0;34m)\u001b[0m\u001b[0;34m\u001b[0m\u001b[0;34m\u001b[0m\u001b[0m\n\u001b[0m\u001b[1;32m      4\u001b[0m \u001b[0;34m\u001b[0m\u001b[0m\n\u001b[1;32m      5\u001b[0m fig = go.Figure(go.Scattermapbox(\n",
      "\u001b[0;31mFileNotFoundError\u001b[0m: [Errno 2] No such file or directory: 'pk.eyJ1IjoibGV0aXNhbGJhIiwiYSI6ImNrM3M2ZmljejAxeTYzZHBpZ2kwYmYxNWQifQ.8kD2sxlrcRvsbFmND2oUwQ'"
     ]
    }
   ],
   "source": [
    "import plotly.graph_objects as go\n",
    "\n",
    "mapbox_access_token = open(\"pk.eyJ1IjoibGV0aXNhbGJhIiwiYSI6ImNrM3M2ZmljejAxeTYzZHBpZ2kwYmYxNWQifQ.8kD2sxlrcRvsbFmND2oUwQ\").read()\n",
    "\n",
    "fig = go.Figure(go.Scattermapbox(\n",
    "        lat=['44.33237311','40.7550515','40.75913445','42.92661444','42.15025771',\n",
    "             '43.20521338','42.019871','43.04804637','43.07857637','43.0988098','42.8758185',\n",
    "             '41.335404','41.0415525','40.8721114','42.89268134','42.8847967','42.67724221',\n",
    "             '42.88851165','42.86640421','43.163275'],\n",
    "        lon=['-75.47489238','-73.41443291','-73.0216063','-73.34515821','-77.06089704',\n",
    "             '-75.43229951','-76.62211','-76.15406625','-75.75153202','-77.4416792',\n",
    "             '-78.8458326','-74.360033','-72.4545703','-73.855814','-77.38938696',\n",
    "             '-78.8734526','-76.82281329','-77.27866055','-78.86103739','-77.586694'],\n",
    "        mode='markers',\n",
    "        marker=go.scattermapbox.Marker(\n",
    "            size=9\n",
    "        ),\n",
    "        text=[\"Gouverneur\",\"Farmingdale\",\"Patchogue\",\"North Hoosick\",\"Corning\",\"Rome\",\n",
    "              \"Chemung\",\"Syracuse\",\"Canastota\",\"Fairport\",\"Buffalo\",\"Florida\",\"Peconic\",\n",
    "              \"Bronx\",\"Bloomfield\",\"Buffalo\",\"Ovid\",\"Canandaigua\",\"Buffalo\",\"Rochester\"],\n",
    "    ))\n",
    "\n",
    "fig.update_layout(\n",
    "    autosize=True,\n",
    "    hovermode='closest',\n",
    "    mapbox=go.layout.Mapbox(\n",
    "        accesstoken=mapbox_access_token,\n",
    "        bearing=0,\n",
    "        center=go.layout.mapbox.Center(\n",
    "            lat=44.33,\n",
    "            lon=77.47\n",
    "        ),\n",
    "        pitch=0,\n",
    "        zoom=10\n",
    "    ),\n",
    ")\n",
    "\n",
    "fig.show()"
   ]
  },
  {
   "cell_type": "code",
   "execution_count": null,
   "metadata": {},
   "outputs": [],
   "source": []
  },
  {
   "cell_type": "code",
   "execution_count": null,
   "metadata": {},
   "outputs": [],
   "source": []
  },
  {
   "cell_type": "code",
   "execution_count": null,
   "metadata": {},
   "outputs": [],
   "source": []
  },
  {
   "cell_type": "code",
   "execution_count": null,
   "metadata": {},
   "outputs": [],
   "source": []
  },
  {
   "cell_type": "code",
   "execution_count": null,
   "metadata": {},
   "outputs": [],
   "source": []
  },
  {
   "cell_type": "code",
   "execution_count": null,
   "metadata": {},
   "outputs": [],
   "source": []
  }
 ],
 "metadata": {
  "kernelspec": {
   "display_name": "Python 3",
   "language": "python",
   "name": "python3"
  },
  "language_info": {
   "codemirror_mode": {
    "name": "ipython",
    "version": 3
   },
   "file_extension": ".py",
   "mimetype": "text/x-python",
   "name": "python",
   "nbconvert_exporter": "python",
   "pygments_lexer": "ipython3",
   "version": "3.7.3"
  }
 },
 "nbformat": 4,
 "nbformat_minor": 2
}
